{
  "nbformat": 4,
  "nbformat_minor": 0,
  "metadata": {
    "colab": {
      "name": "MDXNet_A.ipynb",
      "provenance": [],
      "collapsed_sections": [],
      "authorship_tag": "ABX9TyP56akZwwEQIm/DQ+oRDXSZ",
      "include_colab_link": true
    },
    "kernelspec": {
      "name": "python3",
      "display_name": "Python 3"
    },
    "language_info": {
      "name": "python"
    }
  },
  "cells": [
    {
      "cell_type": "markdown",
      "metadata": {
        "id": "view-in-github",
        "colab_type": "text"
      },
      "source": [
        "<a href=\"https://colab.research.google.com/github/ws-choi/LASAFT-Net-v2/blob/main/colab/MDXNet_A.ipynb\" target=\"_parent\"><img src=\"https://colab.research.google.com/assets/colab-badge.svg\" alt=\"Open In Colab\"/></a>"
      ]
    },
    {
      "cell_type": "code",
      "execution_count": 1,
      "metadata": {
        "colab": {
          "base_uri": "https://localhost:8080/"
        },
        "id": "JJO2J2sZRzS3",
        "outputId": "8d4e5e7a-38d3-473b-beec-4b44d7845399"
      },
      "outputs": [
        {
          "output_type": "stream",
          "name": "stdout",
          "text": [
            "Cloning into 'mdx-net-submission'...\n",
            "remote: Enumerating objects: 387, done.\u001b[K\n",
            "remote: Counting objects: 100% (387/387), done.\u001b[K\n",
            "remote: Compressing objects: 100% (220/220), done.\u001b[K\n",
            "remote: Total 387 (delta 199), reused 307 (delta 149), pack-reused 0\u001b[K\n",
            "Receiving objects: 100% (387/387), 6.62 MiB | 15.67 MiB/s, done.\n",
            "Resolving deltas: 100% (199/199), done.\n",
            "/content/mdx-net-submission\n"
          ]
        }
      ],
      "source": [
        "!git clone -b leaderboard_A https://github.com/kuielab/mdx-net-submission.git\n",
        "%cd mdx-net-submission"
      ]
    },
    {
      "cell_type": "code",
      "source": [
        "!pip install onnxruntime==1.7.0 SoundFile asteroid>=0.5.0 demucs==2.0.3 aicrowd_api"
      ],
      "metadata": {
        "id": "-KPsB44ySI6Y"
      },
      "execution_count": 2,
      "outputs": []
    },
    {
      "cell_type": "code",
      "source": [
        "!pip install aicrowd_api openunmix"
      ],
      "metadata": {
        "colab": {
          "base_uri": "https://localhost:8080/"
        },
        "id": "UewHrZ18UM_m",
        "outputId": "d89d98aa-9692-4683-89f2-136d8f45de82"
      },
      "execution_count": 7,
      "outputs": [
        {
          "output_type": "stream",
          "name": "stdout",
          "text": [
            "Requirement already satisfied: aicrowd_api in /usr/local/lib/python3.7/dist-packages (0.1.23)\n",
            "Collecting openunmix\n",
            "  Downloading openunmix-1.2.1-py3-none-any.whl (46 kB)\n",
            "\u001b[?25l\r\u001b[K     |███████                         | 10 kB 31.2 MB/s eta 0:00:01\r\u001b[K     |██████████████                  | 20 kB 34.2 MB/s eta 0:00:01\r\u001b[K     |█████████████████████           | 30 kB 23.6 MB/s eta 0:00:01\r\u001b[K     |████████████████████████████    | 40 kB 9.2 MB/s eta 0:00:01\r\u001b[K     |████████████████████████████████| 46 kB 3.3 MB/s \n",
            "\u001b[?25hRequirement already satisfied: requests>=2.18.4 in /usr/local/lib/python3.7/dist-packages (from aicrowd_api) (2.23.0)\n",
            "Requirement already satisfied: redis in /usr/local/lib/python3.7/dist-packages (from aicrowd_api) (4.2.2)\n",
            "Requirement already satisfied: certifi>=2017.4.17 in /usr/local/lib/python3.7/dist-packages (from requests>=2.18.4->aicrowd_api) (2021.10.8)\n",
            "Requirement already satisfied: urllib3!=1.25.0,!=1.25.1,<1.26,>=1.21.1 in /usr/local/lib/python3.7/dist-packages (from requests>=2.18.4->aicrowd_api) (1.24.3)\n",
            "Requirement already satisfied: chardet<4,>=3.0.2 in /usr/local/lib/python3.7/dist-packages (from requests>=2.18.4->aicrowd_api) (3.0.4)\n",
            "Requirement already satisfied: idna<3,>=2.5 in /usr/local/lib/python3.7/dist-packages (from requests>=2.18.4->aicrowd_api) (2.10)\n",
            "Requirement already satisfied: numpy in /usr/local/lib/python3.7/dist-packages (from openunmix) (1.21.5)\n",
            "Requirement already satisfied: torch>=1.9.0 in /usr/local/lib/python3.7/dist-packages (from openunmix) (1.10.0+cu111)\n",
            "Requirement already satisfied: tqdm in /usr/local/lib/python3.7/dist-packages (from openunmix) (4.63.0)\n",
            "Requirement already satisfied: torchaudio>=0.9.0 in /usr/local/lib/python3.7/dist-packages (from openunmix) (0.10.0+cu111)\n",
            "Requirement already satisfied: typing-extensions in /usr/local/lib/python3.7/dist-packages (from torch>=1.9.0->openunmix) (3.10.0.2)\n",
            "Requirement already satisfied: importlib-metadata>=1.0 in /usr/local/lib/python3.7/dist-packages (from redis->aicrowd_api) (4.11.3)\n",
            "Requirement already satisfied: deprecated>=1.2.3 in /usr/local/lib/python3.7/dist-packages (from redis->aicrowd_api) (1.2.13)\n",
            "Requirement already satisfied: async-timeout>=4.0.2 in /usr/local/lib/python3.7/dist-packages (from redis->aicrowd_api) (4.0.2)\n",
            "Requirement already satisfied: packaging>=20.4 in /usr/local/lib/python3.7/dist-packages (from redis->aicrowd_api) (21.3)\n",
            "Requirement already satisfied: wrapt<2,>=1.10 in /usr/local/lib/python3.7/dist-packages (from deprecated>=1.2.3->redis->aicrowd_api) (1.14.0)\n",
            "Requirement already satisfied: zipp>=0.5 in /usr/local/lib/python3.7/dist-packages (from importlib-metadata>=1.0->redis->aicrowd_api) (3.7.0)\n",
            "Requirement already satisfied: pyparsing!=3.0.5,>=2.0.2 in /usr/local/lib/python3.7/dist-packages (from packaging>=20.4->redis->aicrowd_api) (3.0.7)\n",
            "Installing collected packages: openunmix\n",
            "Successfully installed openunmix-1.2.1\n"
          ]
        }
      ]
    },
    {
      "cell_type": "code",
      "source": [
        "!python download_demucs.py\n",
        "!wget https://zenodo.org/record/5717356/files/onnx_A.zip\n",
        "!unzip onnx_A\n",
        "!wget https://zenodo.org/record/5717356/files/mixer.ckpt\n",
        "!mv mixer.ckpt model"
      ],
      "metadata": {
        "colab": {
          "base_uri": "https://localhost:8080/"
        },
        "id": "rPI4HA2dSOZd",
        "outputId": "9be43170-87f7-4497-d540-ef6db4eb94ab"
      },
      "execution_count": 3,
      "outputs": [
        {
          "output_type": "stream",
          "name": "stdout",
          "text": [
            "Downloading: \"https://dl.fbaipublicfiles.com/demucs/v3.0/demucs-e07c671f.th\" to /root/.cache/torch/hub/checkpoints/demucs-e07c671f.th\n",
            "100% 0.99G/0.99G [00:16<00:00, 66.4MB/s]\n",
            "--2022-04-08 08:33:29--  https://zenodo.org/record/5717356/files/onnx_A.zip\n",
            "Resolving zenodo.org (zenodo.org)... 137.138.76.77\n",
            "Connecting to zenodo.org (zenodo.org)|137.138.76.77|:443... connected.\n",
            "HTTP request sent, awaiting response... 200 OK\n",
            "Length: 110359032 (105M) [application/octet-stream]\n",
            "Saving to: ‘onnx_A.zip’\n",
            "\n",
            "onnx_A.zip          100%[===================>] 105.25M  2.52MB/s    in 53s     \n",
            "\n",
            "2022-04-08 08:34:24 (1.99 MB/s) - ‘onnx_A.zip’ saved [110359032/110359032]\n",
            "\n",
            "Archive:  onnx_A.zip\n",
            "  inflating: onnx_A/bass.onnx        \n",
            "  inflating: onnx_A/drums.onnx       \n",
            "  inflating: onnx_A/other.onnx       \n",
            "  inflating: onnx_A/vocals.onnx      \n",
            "--2022-04-08 08:34:25--  https://zenodo.org/record/5717356/files/mixer.ckpt\n",
            "Resolving zenodo.org (zenodo.org)... 137.138.76.77\n",
            "Connecting to zenodo.org (zenodo.org)|137.138.76.77|:443... connected.\n",
            "HTTP request sent, awaiting response... 200 OK\n",
            "Length: 1208 (1.2K) [application/octet-stream]\n",
            "Saving to: ‘mixer.ckpt’\n",
            "\n",
            "mixer.ckpt          100%[===================>]   1.18K  --.-KB/s    in 0s      \n",
            "\n",
            "2022-04-08 08:34:27 (454 MB/s) - ‘mixer.ckpt’ saved [1208/1208]\n",
            "\n"
          ]
        }
      ]
    },
    {
      "cell_type": "code",
      "source": [
        "!python predict_blend.py"
      ],
      "metadata": {
        "colab": {
          "base_uri": "https://localhost:8080/"
        },
        "id": "0CaTVzsuUHJu",
        "outputId": "04f632c5-ed2b-404e-a971-4a1ecedf477e"
      },
      "execution_count": 8,
      "outputs": [
        {
          "output_type": "stream",
          "name": "stdout",
          "text": [
            "/content/mdx-net-submission/data/test/La Vie EN Rose - Stella Jang/mixture.wav\n",
            "predict_blend.py:56: UserWarning: Creating a tensor from a list of numpy.ndarrays is extremely slow. Please consider converting the list to a single numpy.ndarray with numpy.array() before converting to a tensor. (Triggered internally at  ../torch/csrc/utils/tensor_new.cpp:201.)\n",
            "  mix_waves = torch.tensor(mix_waves, dtype=torch.float32)\n",
            "/usr/local/lib/python3.7/dist-packages/torch/functional.py:573: UserWarning: stft will soon require the return_complex parameter be given for real inputs, and will further require that return_complex=True in a future PyTorch release. (Triggered internally at  ../aten/src/ATen/native/SpectralOps.cpp:659.)\n",
            "  normalized, onesided, return_complex)\n",
            "/usr/local/lib/python3.7/dist-packages/torch/functional.py:648: UserWarning: istft will require a complex-valued input tensor in a future PyTorch release. Matching the output from stft with return_complex=True.  (Triggered internally at  ../aten/src/ATen/native/SpectralOps.cpp:811.)\n",
            "  normalized, onesided, length, return_complex)\n",
            "35.1204149723053\n",
            "44.19434428215027\n",
            "Successfully completed music demixing...\n"
          ]
        }
      ]
    }
  ]
}